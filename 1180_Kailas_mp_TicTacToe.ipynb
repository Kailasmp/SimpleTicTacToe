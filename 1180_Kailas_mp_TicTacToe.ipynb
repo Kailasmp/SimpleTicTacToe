{
 "cells": [
  {
   "cell_type": "code",
   "execution_count": 1,
   "id": "90d1e29e-6fc1-4489-99a1-0bb98a69c80f",
   "metadata": {},
   "outputs": [
    {
     "name": "stdout",
     "output_type": "stream",
     "text": [
      "- | - | -\n",
      "---------\n",
      "- | - | -\n",
      "---------\n",
      "- | - | -\n"
     ]
    },
    {
     "name": "stdin",
     "output_type": "stream",
     "text": [
      "Select a spot 1-9:  1\n"
     ]
    },
    {
     "name": "stdout",
     "output_type": "stream",
     "text": [
      "X | - | -\n",
      "---------\n",
      "- | - | -\n",
      "---------\n",
      "- | - | -\n"
     ]
    },
    {
     "name": "stdin",
     "output_type": "stream",
     "text": [
      "Select a spot 1-9:  3\n"
     ]
    },
    {
     "name": "stdout",
     "output_type": "stream",
     "text": [
      "X | - | O\n",
      "---------\n",
      "- | - | -\n",
      "---------\n",
      "- | - | -\n"
     ]
    },
    {
     "name": "stdin",
     "output_type": "stream",
     "text": [
      "Select a spot 1-9:  2\n"
     ]
    },
    {
     "name": "stdout",
     "output_type": "stream",
     "text": [
      "X | X | O\n",
      "---------\n",
      "- | - | -\n",
      "---------\n",
      "- | - | -\n"
     ]
    },
    {
     "name": "stdin",
     "output_type": "stream",
     "text": [
      "Select a spot 1-9:  4\n"
     ]
    },
    {
     "name": "stdout",
     "output_type": "stream",
     "text": [
      "X | X | O\n",
      "---------\n",
      "O | - | -\n",
      "---------\n",
      "- | - | -\n"
     ]
    },
    {
     "name": "stdin",
     "output_type": "stream",
     "text": [
      "Select a spot 1-9:  5\n"
     ]
    },
    {
     "name": "stdout",
     "output_type": "stream",
     "text": [
      "X | X | O\n",
      "---------\n",
      "O | X | -\n",
      "---------\n",
      "- | - | -\n"
     ]
    },
    {
     "name": "stdin",
     "output_type": "stream",
     "text": [
      "Select a spot 1-9:  6\n"
     ]
    },
    {
     "name": "stdout",
     "output_type": "stream",
     "text": [
      "X | X | O\n",
      "---------\n",
      "O | X | O\n",
      "---------\n",
      "- | - | -\n"
     ]
    },
    {
     "name": "stdin",
     "output_type": "stream",
     "text": [
      "Select a spot 1-9:  9\n"
     ]
    },
    {
     "name": "stdout",
     "output_type": "stream",
     "text": [
      "X | X | O\n",
      "---------\n",
      "O | X | O\n",
      "---------\n",
      "- | - | X\n",
      "The winner is X\n"
     ]
    }
   ],
   "source": [
    "\n",
    "board = [\"-\", \"-\", \"-\",\n",
    "        \"-\", \"-\", \"-\",\n",
    "        \"-\", \"-\", \"-\"]\n",
    "currentPlayer = \"X\"\n",
    "winner = None\n",
    "gameRunning = True\n",
    "\n",
    "# player board\n",
    "def printBoard(board):\n",
    "    print(board[0] + \" | \" + board[1] + \" | \" + board[2])\n",
    "    print(\"---------\")\n",
    "    print(board[3] + \" | \" + board[4] + \" | \" + board[5])\n",
    "    print(\"---------\")\n",
    "    print(board[6] + \" | \" + board[7] + \" | \" + board[8])\n",
    "\n",
    "\n",
    "# take player input\n",
    "def playerInput(board):\n",
    "    inp = int(input(\"Select a spot 1-9: \"))\n",
    "    if board[inp-1] == \"-\":\n",
    "        board[inp-1] = currentPlayer\n",
    "    else:\n",
    "        print(\"Position is already aquired\")\n",
    "\n",
    "\n",
    "# check for win or tie\n",
    "def Horizontal(board):\n",
    "    global winner\n",
    "    if board[0] == board[1] == board[2] and board[0] != \"-\":\n",
    "        winner = board[0]\n",
    "        return True\n",
    "    elif board[3] == board[4] == board[5] and board[3] != \"-\":\n",
    "        winner = board[3]\n",
    "        return True\n",
    "    elif board[6] == board[7] == board[8] and board[6] != \"-\":\n",
    "        winner = board[6]\n",
    "        return True\n",
    "\n",
    "def vertical(board):\n",
    "    global winner\n",
    "    if board[0] == board[3] == board[6] and board[0] != \"-\":\n",
    "        winner = board[0]\n",
    "        return True\n",
    "    elif board[1] == board[4] == board[7] and board[1] != \"-\":\n",
    "        winner = board[1]\n",
    "        return True\n",
    "    elif board[2] == board[5] == board[8] and board[2] != \"-\":\n",
    "        winner = board[3]\n",
    "        return True\n",
    "\n",
    "\n",
    "def diagoanl(board):\n",
    "    global winner\n",
    "    if board[0] == board[4] == board[8] and board[0] != \"-\":\n",
    "        winner = board[0]\n",
    "        return True\n",
    "    elif board[2] == board[4] == board[6] and board[4] != \"-\":\n",
    "        winner = board[2]\n",
    "        return True\n",
    "\n",
    "\n",
    "def checkWin(board):\n",
    "    global gameRunning\n",
    "    if Horizontal(board):\n",
    "        printBoard(board)\n",
    "        print(f\"The winner is {winner}\")\n",
    "        gameRunning = False\n",
    "\n",
    "    elif vertical(board):\n",
    "        printBoard(board)\n",
    "        print(f\"The winner is {winner}\")\n",
    "        gameRunning = False\n",
    "\n",
    "    elif diagoanl(board):\n",
    "        printBoard(board)\n",
    "        print(f\"The winner is {winner}\")\n",
    "        gameRunning = False\n",
    "\n",
    "\n",
    "def checkTie(board):\n",
    "    global gameRunning\n",
    "    if \"-\" not in board:\n",
    "        printBoard(board)\n",
    "        print(\"It is a tie!\")\n",
    "        gameRunning = False\n",
    "\n",
    "\n",
    "# switch player\n",
    "def switchPlayer():\n",
    "    global currentPlayer\n",
    "    if currentPlayer == \"X\":\n",
    "        currentPlayer = \"O\"\n",
    "    else:\n",
    "        currentPlayer = \"X\"\n",
    "\n",
    "\n",
    "\n",
    "\n",
    "while gameRunning:\n",
    "    printBoard(board)\n",
    "    playerInput(board)\n",
    "    checkWin(board)\n",
    "    checkTie(board)\n",
    "    switchPlayer()\n",
    "   # checkWin(board)\n",
    "    #checkTie(board)\n",
    "\n",
    "\n"
   ]
  },
  {
   "cell_type": "code",
   "execution_count": null,
   "id": "5793ecec-cb17-456f-9060-db3ef90c47e7",
   "metadata": {},
   "outputs": [],
   "source": []
  }
 ],
 "metadata": {
  "kernelspec": {
   "display_name": "Python 3 (ipykernel)",
   "language": "python",
   "name": "python3"
  },
  "language_info": {
   "codemirror_mode": {
    "name": "ipython",
    "version": 3
   },
   "file_extension": ".py",
   "mimetype": "text/x-python",
   "name": "python",
   "nbconvert_exporter": "python",
   "pygments_lexer": "ipython3",
   "version": "3.12.4"
  }
 },
 "nbformat": 4,
 "nbformat_minor": 5
}
